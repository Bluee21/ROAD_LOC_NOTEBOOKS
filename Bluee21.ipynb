{
  "nbformat": 4,
  "nbformat_minor": 0,
  "metadata": {
    "colab": {
      "provenance": []
    },
    "kernelspec": {
      "name": "python3",
      "display_name": "Python 3"
    },
    "language_info": {
      "name": "python"
    }
  },
  "cells": [
    {
      "cell_type": "code",
      "execution_count": 78,
      "metadata": {
        "id": "6OI86CnDn5U_"
      },
      "outputs": [],
      "source": []
    },
    {
      "cell_type": "markdown",
      "source": [
        "# Children's Book Selections\n",
        "\n",
        "---\n",
        "\n",
        "This collection is made up of general and rare children's books consisting of classics and lesser-known gems published in the United States and England before 1924. Highlights include works by prominent American illustrators like W.W. Denslow and Howard Pyle, as well as renowned English illustrators such as Randolph Caldecott and Kate Greenaway. The collection spans multiple generations and themes, consisting of materials designed for learning to read, supporting classroom instruction, and fostering the imagination."
      ],
      "metadata": {
        "id": "MyOQnm01Fw9o"
      }
    },
    {
      "cell_type": "markdown",
      "source": [],
      "metadata": {
        "id": "6yihPqtPlxT8"
      }
    },
    {
      "cell_type": "code",
      "source": [
        "import requests"
      ],
      "metadata": {
        "id": "z1mBVJGZlkDE"
      },
      "execution_count": 79,
      "outputs": []
    },
    {
      "cell_type": "code",
      "source": [
        "import json"
      ],
      "metadata": {
        "id": "QlvMIIEgmL-_"
      },
      "execution_count": 80,
      "outputs": []
    },
    {
      "cell_type": "code",
      "source": [
        "from IPython.display import Image, display"
      ],
      "metadata": {
        "id": "suKV0VEVsTvg"
      },
      "execution_count": 81,
      "outputs": []
    },
    {
      "cell_type": "code",
      "source": [
        "collection_result =requests.get('https://www.loc.gov/collections/childrens-book-selections/?fo=json').json()"
      ],
      "metadata": {
        "id": "eSZL_o82lvqG"
      },
      "execution_count": 82,
      "outputs": []
    },
    {
      "cell_type": "markdown",
      "source": [
        "This code below displays all the titles in the children's book collection in alphabetical order through paginated results from the LOC web API and the lambda function. `sorted(collection_result[\"results\"], key=lambda x: x[\"title\"])`, sorts the list of dictionaries `(collection_result[\"results\"])` based on the values of the \"title\" key in each dictionary.The loop then continuously fetches and prints the titles of collections present on the current page of results. After printing titles for the current page, it checks if there is a \"next\" page available. If a next page exists, it updates the `collection_result` variable with the next page using the `requests.get(next_page).json()` call. This process repeats until there are no more pages (when `next_page` is `None`), ending the iteration through the paginated data."
      ],
      "metadata": {
        "id": "X9wg090eoWKT"
      }
    },
    {
      "cell_type": "code",
      "source": [
        "initial_url = 'https://www.loc.gov/collections/childrens-book-selections/?fo=json&c=100'\n",
        "collection_result = requests.get(initial_url).json()\n",
        "\n",
        "while True:\n",
        "    for collection in sorted(collection_result[\"results\"], key=lambda x: x[\"title\"]):\n",
        "        print(collection[\"title\"])\n",
        "\n",
        "    next_page = collection_result[\"pagination\"][\"next\"]\n",
        "\n",
        "    if next_page is not None:\n",
        "        collection_result = requests.get(next_page).json()\n",
        "    else:\n",
        "        break\n",
        "\n"
      ],
      "metadata": {
        "colab": {
          "base_uri": "https://localhost:8080/"
        },
        "id": "gQPRCjt5yYv_",
        "outputId": "fff121a1-1149-4bbf-8e2d-d8a04bb90834"
      },
      "execution_count": 86,
      "outputs": [
        {
          "output_type": "stream",
          "name": "stdout",
          "text": [
            "A apple pie\n",
            "A child's garden of verses\n",
            "A little pretty pocket-book : intended for the instruction and amusement of little Master Tommy, and pretty Miss Polly : with two letters from Jack the giant-killer, as also a ball and pincushion, the use of which will infallibly make Tommy a good boy, and Polly a good girl : to which is added, A little song-book, being a new attempt to teach children the use of the English alphabet, by way of diversion\n",
            "A wonder book for girls and boys\n",
            "Aesop for Children Interactive Book\n",
            "Articles and Essays\n",
            "Ballad of the lost hare\n",
            "Baseball A B C.\n",
            "Children of our town\n",
            "Children's Book Selections\n",
            "Collection Highlights\n",
            "Denslow's Humpty Dumpty\n",
            "Easy and instructive lessons for children. Also, The ladder to learning, or, A selection of fables consisting of words of only one syllable : being an easy introduction to the useful art of reading.\n",
            "Elsie Dinsmore\n",
            "Gobolinks, or shadow-pictures for young and old\n",
            "Goody Two-Shoes : illuminated with ten pictures.\n",
            "Jack the giant killer / by F.W.N. Bayley, author of The new tale of a tub, etc. ; with illustrations by Leech.\n",
            "Jimmy Crow\n",
            "Learning to think : consisting of easy and entertaining lessons, designed to interest and assist in the first unfolding of the reflective and reasoning powers of children\n",
            "Little Red Riding Hood\n",
            "London town\n",
            "Marmaduke Multiply\n",
            "McGuffey's newly revised eclectic primer, with pictorial illustrations.\n",
            "Mother Goose finger plays\n",
            "Mother Goose in prose\n",
            "Mother Goose's story book.\n",
            "Mother West Wind \"where\" stories,\n",
            "Mother [Goose] in hieroglyphics.\n",
            "Perrault's Fairy tales,\n",
            "Ragged Dick, or, Street life in New York with the boot-blacks\n",
            "Red Riding Hood\n",
            "Rights & Access\n",
            "Rip Van Winkle\n",
            "Stories from Hans Andersen\n",
            "The Arabian nights : their best-known tales\n",
            "The Boston cries ; and, The story of the little match-boy\n",
            "The Circus procession.\n",
            "The History of insects.\n",
            "The New-England primer improved : for the more easy attaining the true reading of English, to which is added, the Assembly of Divines, and Mr. Cotton's catechism\n",
            "The Pied Piper of Hamelin\n",
            "The baby's own Aesop : being the fables condensed in rhyme, with portable morals pictorially pointed\n",
            "The book of the cat : with facsimiles of drawings in colour\n",
            "The book of trades.\n",
            "The cats' party.\n",
            "The cheerful cricket and others\n",
            "The complete collection of pictures & songs\n",
            "The history of little Goody Twoshoes, otherwise called Mrs. Margery Twoshoes : with the means by which she acquired her learning and wisdom and in consequence thereof her estate ... see the original manuscript in the Vatican at Rome, and the cuts by Michael Angelo, illustrated with the comments of our great modern criticks.\n",
            "The illustrated primer, or, The first book for children : designed for home or parental instruction : embellished with numerous engravings, and pretty stories, which will please the children amazingly!\n",
            "The juvenile national calendar, or, A familiar description of the U.S. government.\n",
            "The life of George Washington : with curious anecdotes, equally honourable to himself and exemplary to his young countrymen\n",
            "The little frog and pretty mouse.\n",
            "The mansion of happiness : an instructive moral and entertaining amusement.\n",
            "The puzzling-cap : a choice collection of riddles, in familiar verse, with a curious cut to each.\n",
            "The raven\n",
            "The rocket book\n",
            "The school song book : adapted to the scenes of the school room : written for American children and youth\n",
            "The secret garden\n",
            "The slant book\n",
            "The story of the three little pigs\n",
            "The tale of Mrs. Tiggy-Winkle\n",
            "The tales of Peter Parley about America : with engravings.\n",
            "The twelve magic changelings\n",
            "The wonder clock, or, Four & twenty marvellous tales, being one for each hour of the day\n",
            "The wonderful Wizard of Oz\n",
            "The wonders of a toy shop.\n",
            "Through fairy halls of my bookhouse,\n",
            "Yankee Doodle : an old friend in a new dress\n",
            "[Wood hornbook]\n"
          ]
        }
      ]
    },
    {
      "cell_type": "markdown",
      "source": [
        "This code displays the top 10 contributors to the children's book selections. Using the counter object named contributor_counter to track the occurrences, it utilises the requests library to fetch JSON data from the API regarding the children's book selections, and iterates through the API response to increment contributor counts. Displaying the top 10 contributors.\n",
        "\n",
        "> The results are only for the first 25 results so this not the true count of contribution."
      ],
      "metadata": {
        "id": "uBaJZ7lG9rAg"
      }
    },
    {
      "cell_type": "code",
      "source": [
        "import pandas as pd\n",
        "%matplotlib inline\n",
        "from collections import Counter\n",
        "\n",
        "contributor_counter = Counter()\n",
        "\n",
        "wwi_sheet_music = requests.get(\"https://www.loc.gov/collections/childrens-book-selections/?fo=json\").json()\n",
        "\n",
        "for item in wwi_sheet_music[\"results\"]:\n",
        "    if 'contributor' in item and item['contributor'] is not None and len(item['contributor']) > 0:\n",
        "        for contributor in item['contributor']:\n",
        "            contributor_counter[contributor] +=1\n",
        "\n",
        "top_contributors = 10\n",
        "top_contributors_series = pd.Series(contributor_counter).nlargest(top_contributors) #return the contributor with the largest count\n",
        "top_contributors_series.sort_values(ascending=True).plot(kind='barh', figsize=(9, 9))\n",
        "\n"
      ],
      "metadata": {
        "colab": {
          "base_uri": "https://localhost:8080/",
          "height": 771
        },
        "id": "3Ut6GZaG4j_F",
        "outputId": "161b4e48-907d-478e-aa93-133e31835c79"
      },
      "execution_count": 111,
      "outputs": [
        {
          "output_type": "execute_result",
          "data": {
            "text/plain": [
              "<Axes: >"
            ]
          },
          "metadata": {},
          "execution_count": 111
        },
        {
          "output_type": "display_data",
          "data": {
            "text/plain": [
              "<Figure size 900x900 with 1 Axes>"
            ],
            "image/png": "[encoded data removed]"
          },
          "metadata": {}
        }
      ]
    },
    {
      "cell_type": "markdown",
      "source": [
        "This code iterates through each item in the collection, and for each item, it retrieves the \"subject\" information. If the subject contains the phrase 'juvenile literature', it extracts the \"title\" and \"image_url\" of that item. Finally, it prints the title and subject, and displays the corresponding image using IPython's Image and display functions. If the \"image_url\" is not available, it prints a default title and subject with no image."
      ],
      "metadata": {
        "id": "Xy05xe8J10G2"
      }
    },
    {
      "cell_type": "code",
      "source": [
        "import requests\n",
        "from IPython.display import Image, display\n",
        "\n",
        "wwi_sheet_music = requests.get(\"https://www.loc.gov/collections/childrens-book-selections/?fo=json\").json()\n",
        "\n",
        "for item in wwi_sheet_music[\"results\"]:\n",
        "    subject = item.get(\"subject\", \"N/A\")\n",
        "\n",
        "    if 'juvenile literature' in subject:\n",
        "        title, image_url = item.get(\"title\", \"No Title\"), item.get(\"image_url\", [\"\"])[0]\n",
        "\n",
        "        print(\"Title:\", title)\n",
        "        print(\"Subject:\", subject)\n",
        "        display(Image(url=image_url))\n"
      ],
      "metadata": {
        "colab": {
          "base_uri": "https://localhost:8080/",
          "height": 1000
        },
        "id": "3nhHSwlrwP_N",
        "outputId": "f563d399-ea1f-46a8-8181-f1c5fcac9bf3"
      },
      "execution_count": 31,
      "outputs": [
        {
          "output_type": "stream",
          "name": "stdout",
          "text": [
            "Title: Learning to think : consisting of easy and entertaining lessons, designed to interest and assist in the first unfolding of the reflective and reasoning powers of children\n",
            "Subject: ['juvenile literature', 'thought and thinking', 'reasoning in children']\n"
          ]
        },
        {
          "output_type": "display_data",
          "data": {
            "text/html": [
              "<img src=\"https://tile.loc.gov/image-services/iiif/service:rbc:rbc0001:2017:2017gen57759:0001/full/pct:12.5/0/default.jpg\"/>"
            ],
            "text/plain": [
              "<IPython.core.display.Image object>"
            ]
          },
          "metadata": {}
        },
        {
          "output_type": "stream",
          "name": "stdout",
          "text": [
            "Title: The mansion of happiness : an instructive moral and entertaining amusement.\n",
            "Subject: ['conduct of life', 'winter', 'toy and movable books', 'specimens', 'board games', 'virtues', 'christmas', 'stories in rhyme', 'fiction', 'juvenile literature', 'children']\n"
          ]
        },
        {
          "output_type": "display_data",
          "data": {
            "text/html": [
              "<img src=\"https://tile.loc.gov/storage-services/service/rbc/rbc0001/2017/2017carson88414/0001.gif\"/>"
            ],
            "text/plain": [
              "<IPython.core.display.Image object>"
            ]
          },
          "metadata": {}
        },
        {
          "output_type": "stream",
          "name": "stdout",
          "text": [
            "Title: The tales of Peter Parley about America : with engravings.\n",
            "Subject: ['description and travel', 'atlantic states', 'colonial period', 'united states', 'juvenile literature', 'history']\n"
          ]
        },
        {
          "output_type": "display_data",
          "data": {
            "text/html": [
              "<img src=\"https://tile.loc.gov/image-services/iiif/service:rbc:rbc0001:2015:2015juv13090:0005/full/pct:12.5/0/default.jpg\"/>"
            ],
            "text/plain": [
              "<IPython.core.display.Image object>"
            ]
          },
          "metadata": {}
        },
        {
          "output_type": "stream",
          "name": "stdout",
          "text": [
            "Title: The life of George Washington : with curious anecdotes, equally honourable to himself and exemplary to his young countrymen\n",
            "Subject: ['generals', 'presidents', 'united states', 'washington, george', 'juvenile literature', 'biography']\n"
          ]
        },
        {
          "output_type": "display_data",
          "data": {
            "text/html": [
              "<img src=\"https://tile.loc.gov/image-services/iiif/service:rbc:rbc0001:2015:2015juv44994:0005/full/pct:12.5/0/default.jpg\"/>"
            ],
            "text/plain": [
              "<IPython.core.display.Image object>"
            ]
          },
          "metadata": {}
        },
        {
          "output_type": "stream",
          "name": "stdout",
          "text": [
            "Title: Baseball A B C.\n",
            "Subject: ['alphabet', 'readers (primary)', 'alphabet books', 'baseball', 'english language', 'juvenile literature']\n"
          ]
        },
        {
          "output_type": "display_data",
          "data": {
            "text/html": [
              "<img src=\"https://tile.loc.gov/image-services/iiif/service:rbc:rbc0001:2002:2002juv85163:0001/full/pct:12.5/0/default.jpg\"/>"
            ],
            "text/plain": [
              "<IPython.core.display.Image object>"
            ]
          },
          "metadata": {}
        },
        {
          "output_type": "stream",
          "name": "stdout",
          "text": [
            "Title: The book of trades.\n",
            "Subject: ['miniature books', 'specimens', 'juvenile literature', 'vocational guidance', 'occupations']\n"
          ]
        },
        {
          "output_type": "display_data",
          "data": {
            "text/html": [
              "<img src=\"https://tile.loc.gov/image-services/iiif/service:rbc:rbc0001:2008:2008juv0001:0008/full/pct:50/0/default.jpg\"/>"
            ],
            "text/plain": [
              "<IPython.core.display.Image object>"
            ]
          },
          "metadata": {}
        },
        {
          "output_type": "stream",
          "name": "stdout",
          "text": [
            "Title: The juvenile national calendar, or, A familiar description of the U.S. government.\n",
            "Subject: ['united states', 'politics and government', 'juvenile literature', 'officials and employees']\n"
          ]
        },
        {
          "output_type": "display_data",
          "data": {
            "text/html": [
              "<img src=\"https://tile.loc.gov/image-services/iiif/service:rbc:rbc0001:2017:2017gen13865:0004/full/pct:12.5/0/default.jpg\"/>"
            ],
            "text/plain": [
              "<IPython.core.display.Image object>"
            ]
          },
          "metadata": {}
        },
        {
          "output_type": "stream",
          "name": "stdout",
          "text": [
            "Title: The book of the cat : with facsimiles of drawings in colour\n",
            "Subject: ['cats', 'juvenile literature', 'pictorial works']\n"
          ]
        },
        {
          "output_type": "display_data",
          "data": {
            "text/html": [
              "<img src=\"https://tile.loc.gov/image-services/iiif/service:rbc:rbc0001:2003:2003juv0001:0001/full/pct:6.25/0/default.jpg\"/>"
            ],
            "text/plain": [
              "<IPython.core.display.Image object>"
            ]
          },
          "metadata": {}
        },
        {
          "output_type": "stream",
          "name": "stdout",
          "text": [
            "Title: Rip Van Winkle\n",
            "Subject: ['juvenile literature']\n"
          ]
        },
        {
          "output_type": "display_data",
          "data": {
            "text/html": [
              "<img src=\"https://tile.loc.gov/image-services/iiif/service:rbc:rbc0001:2015:2015juv20966:0001/full/pct:6.25/0/default.jpg\"/>"
            ],
            "text/plain": [
              "<IPython.core.display.Image object>"
            ]
          },
          "metadata": {}
        },
        {
          "output_type": "stream",
          "name": "stdout",
          "text": [
            "Title: McGuffey's newly revised eclectic primer, with pictorial illustrations.\n",
            "Subject: ['juvenile literature', 'readers (primary)']\n"
          ]
        },
        {
          "output_type": "display_data",
          "data": {
            "text/html": [
              "<img src=\"https://tile.loc.gov/image-services/iiif/service:rbc:rbc0001:2017:2017mcguffey11963:0008/full/pct:12.5/0/default.jpg\"/>"
            ],
            "text/plain": [
              "<IPython.core.display.Image object>"
            ]
          },
          "metadata": {}
        },
        {
          "output_type": "stream",
          "name": "stdout",
          "text": [
            "Title: Easy and instructive lessons for children. Also, The ladder to learning, or, A selection of fables consisting of words of only one syllable : being an easy introduction to the useful art of reading.\n",
            "Subject: ['juvenile literature', 'readers (primary)']\n"
          ]
        },
        {
          "output_type": "display_data",
          "data": {
            "text/html": [
              "<img src=\"https://tile.loc.gov/image-services/iiif/service:rbc:rbc0001:2016:2016juv12964:0001/full/pct:25/0/default.jpg\"/>"
            ],
            "text/plain": [
              "<IPython.core.display.Image object>"
            ]
          },
          "metadata": {}
        },
        {
          "output_type": "stream",
          "name": "stdout",
          "text": [
            "Title: The illustrated primer, or, The first book for children : designed for home or parental instruction : embellished with numerous engravings, and pretty stories, which will please the children amazingly!\n",
            "Subject: ['juvenile literature', 'readers (primary)']\n"
          ]
        },
        {
          "output_type": "display_data",
          "data": {
            "text/html": [
              "<img src=\"https://tile.loc.gov/image-services/iiif/service:rbc:rbc0001:2016:2016juv84724:0001/full/pct:12.5/0/default.jpg\"/>"
            ],
            "text/plain": [
              "<IPython.core.display.Image object>"
            ]
          },
          "metadata": {}
        },
        {
          "output_type": "stream",
          "name": "stdout",
          "text": [
            "Title: The New-England primer improved : for the more easy attaining the true reading of English, to which is added, the Assembly of Divines, and Mr. Cotton's catechism\n",
            "Subject: ['early works to 1800', 'catechisms, english', 'juvenile literature', 'readers (primary)']\n"
          ]
        },
        {
          "output_type": "display_data",
          "data": {
            "text/html": [
              "<img src=\"https://tile.loc.gov/image-services/iiif/service:rbc:rbc0001:2015:2015juv23945:0009/full/pct:25/0/default.jpg\"/>"
            ],
            "text/plain": [
              "<IPython.core.display.Image object>"
            ]
          },
          "metadata": {}
        },
        {
          "output_type": "stream",
          "name": "stdout",
          "text": [
            "Title: The school song book : adapted to the scenes of the school room : written for American children and youth\n",
            "Subject: [\"children's songs\", 'juvenile literature']\n"
          ]
        },
        {
          "output_type": "display_data",
          "data": {
            "text/html": [
              "<img src=\"https://tile.loc.gov/image-services/iiif/service:rbc:rbc0001:2015:2015juv17858:0007/full/pct:12.5/0/default.jpg\"/>"
            ],
            "text/plain": [
              "<IPython.core.display.Image object>"
            ]
          },
          "metadata": {}
        },
        {
          "output_type": "stream",
          "name": "stdout",
          "text": [
            "Title: The History of insects.\n",
            "Subject: ['insects', 'miniature books', 'juvenile literature', 'chapbooks', 'specimens']\n"
          ]
        },
        {
          "output_type": "display_data",
          "data": {
            "text/html": [
              "<img src=\"https://tile.loc.gov/image-services/iiif/service:rbc:rbc0001:2003:2003min05877:0001/full/pct:12.5/0/default.jpg\"/>"
            ],
            "text/plain": [
              "<IPython.core.display.Image object>"
            ]
          },
          "metadata": {}
        },
        {
          "output_type": "stream",
          "name": "stdout",
          "text": [
            "Title: A little pretty pocket-book : intended for the instruction and amusement of little Master Tommy, and pretty Miss Polly : with two letters from Jack the giant-killer, as also a ball and pincushion, the use of which will infallibly make Tommy a good boy, and Polly a good girl : to which is added, A little song-book, being a new attempt to teach children the use of the English alphabet, by way of diversion\n",
            "Subject: ['worcester', 'readers (primary)', 'united states', 'early works to 1800', 'games', 'massachusetts', 'etiquette for children and teenagers', 'juvenile literature']\n"
          ]
        },
        {
          "output_type": "display_data",
          "data": {
            "text/html": [
              "<img src=\"https://tile.loc.gov/image-services/iiif/service:rbc:rbc0001:2003:2003juv05880:0011/full/pct:25/0/default.jpg\"/>"
            ],
            "text/plain": [
              "<IPython.core.display.Image object>"
            ]
          },
          "metadata": {}
        },
        {
          "output_type": "stream",
          "name": "stdout",
          "text": [
            "Title: Marmaduke Multiply\n",
            "Subject: ['multiplication', 'nursery rhymes', 'juvenile literature', 'juvenile poetry']\n"
          ]
        },
        {
          "output_type": "display_data",
          "data": {
            "text/html": [
              "<img src=\"https://tile.loc.gov/image-services/iiif/service:rbc:rbc0001:2015:2015juv69324:0005/full/pct:12.5/0/default.jpg\"/>"
            ],
            "text/plain": [
              "<IPython.core.display.Image object>"
            ]
          },
          "metadata": {}
        },
        {
          "output_type": "stream",
          "name": "stdout",
          "text": [
            "Title: The puzzling-cap : a choice collection of riddles, in familiar verse, with a curious cut to each.\n",
            "Subject: ['riddles, juvenile', 'juvenile literature']\n"
          ]
        },
        {
          "output_type": "display_data",
          "data": {
            "text/html": [
              "<img src=\"https://tile.loc.gov/image-services/iiif/service:rbc:rbc0001:2015:2015juv08365:0003/full/pct:25/0/default.jpg\"/>"
            ],
            "text/plain": [
              "<IPython.core.display.Image object>"
            ]
          },
          "metadata": {}
        },
        {
          "output_type": "stream",
          "name": "stdout",
          "text": [
            "Title: The history of little Goody Twoshoes, otherwise called Mrs. Margery Twoshoes : with the means by which she acquired her learning and wisdom and in consequence thereof her estate ... see the original manuscript in the Vatican at Rome, and the cuts by Michael Angelo, illustrated with the comments of our great modern criticks.\n",
            "Subject: ['juvenile literature']\n"
          ]
        },
        {
          "output_type": "display_data",
          "data": {
            "text/html": [
              "<img src=\"https://tile.loc.gov/image-services/iiif/service:rbc:rbc0001:2015:2015juv05874:0009/full/pct:12.5/0/default.jpg\"/>"
            ],
            "text/plain": [
              "<IPython.core.display.Image object>"
            ]
          },
          "metadata": {}
        }
      ]
    },
    {
      "cell_type": "code",
      "source": [],
      "metadata": {
        "id": "rkqzD5yPypm4"
      },
      "execution_count": null,
      "outputs": []
    }
  ]
}